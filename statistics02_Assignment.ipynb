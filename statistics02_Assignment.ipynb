{
 "cells": [
  {
   "cell_type": "code",
   "execution_count": null,
   "id": "81f7a1d4-13f6-4119-935b-8d41a10edf1d",
   "metadata": {},
   "outputs": [],
   "source": [
    "''' Q1. What is a random variable in probability theory? \n",
    "\n",
    "     -> A random variable is a function that assigns a numerical value to each possible outcome of a random experiment. \n",
    "        It represents the outcomes in numeric form and can be discrete or continuous (uncountably many values).  \n",
    "\n",
    "'''"
   ]
  },
  {
   "cell_type": "code",
   "execution_count": null,
   "id": "f1cfb636-cf47-4b6c-ade6-1995d2f45788",
   "metadata": {},
   "outputs": [],
   "source": [
    "''' Q2. What are the types of random variables? \n",
    "\n",
    "     -> The two main types of random variables are:\n",
    "        1. Discrete random variable: Takes on a countable number of values (e.g., number of heads in 3 coin tosses).\n",
    "        2. Continuous random variable: Takes on uncountably many values within an interval (e.g., height or time).\n",
    "\n",
    "'''"
   ]
  },
  {
   "cell_type": "code",
   "execution_count": null,
   "id": "96d7abd0-4cf6-43bd-a0a7-bb8756240bc4",
   "metadata": {},
   "outputs": [],
   "source": [
    "''' Q3. Explain the difference between discrete and continuous distributions.\n",
    "\n",
    "     -> A discrete distribution describes probabilities for a discrete random variable, which takes specific, countable values (e.g., rolling a die).\n",
    "        A continuous distribution describes probabilities for a continuous random variable, which can take any value within a range \n",
    "        (e.g., measuring weight), and probabilities are given over intervals, not individual points.\n",
    "\n",
    "'''"
   ]
  },
  {
   "cell_type": "code",
   "execution_count": null,
   "id": "ea861cbb-69f6-4e8f-b1fb-5e35a6a246f1",
   "metadata": {},
   "outputs": [],
   "source": [
    "''' Q4. What is a binomial distribution, and how is it used in probability?\n",
    "\n",
    "     -> A binomial distribution is a discrete probability distribution that represents the number of successes in a \n",
    "        fixed number of independent Bernoulli trials, each with the same probability of success 𝑝\n",
    "        It is used to model situations like flipping a coin multiple times or checking how many items in a batch are defective.\n",
    "\n",
    "'''"
   ]
  },
  {
   "cell_type": "code",
   "execution_count": null,
   "id": "6d987b2d-3e41-4d53-81f4-d82c4f506ffb",
   "metadata": {},
   "outputs": [],
   "source": [
    "''' Q5. What is the standard normal distribution, and why is it important? \n",
    "\n",
    "     -> The standard normal distribution is a normal (Gaussian) distribution with a mean of 0 and a standard deviation of 1. \n",
    "        It’s important because it serves as a reference distribution—any normal distribution can be converted to it using z-scores\n",
    "        allowing easy calculation of probabilities and comparison across different datasets.\n",
    "\n",
    "'''"
   ]
  },
  {
   "cell_type": "code",
   "execution_count": null,
   "id": "67a3c052-6df7-46eb-a51e-93cea54ef9f4",
   "metadata": {},
   "outputs": [],
   "source": [
    "''' Q6. What is the Central Limit Theorem (CLT), and why is it critical in statistics?\n",
    "\n",
    "     -> The Central Limit Theorem (CLT) states that the sampling distribution of the sample mean approaches a normal distribution \n",
    "        as the sample size increases, regardless of the population’s original distribution (if variance is finite).\n",
    "        It’s critical because it allows statisticians to use normal probability methods for inference \n",
    "        (like confidence intervals and hypothesis tests) even when the data are not normally distributed.\n",
    "\n",
    "'''"
   ]
  },
  {
   "cell_type": "code",
   "execution_count": null,
   "id": "e0721ab1-2ff8-4128-9afb-9c54af51a862",
   "metadata": {},
   "outputs": [],
   "source": [
    "''' Q7.  What is the significance of confidence intervals in statistical analysis?\n",
    "\n",
    "      -> Confidence intervals provide a range of values within which a population parameter (like the mean) is likely to lie, \n",
    "         with a specified level of confidence (e.g., 95%).\n",
    "         They are significant because they quantify uncertainty, helping researchers make informed decisions \n",
    "         and assess the reliability of their estimates. \n",
    "\n",
    "'''"
   ]
  },
  {
   "cell_type": "code",
   "execution_count": null,
   "id": "5be026c9-bc1e-4d2e-bffd-3b29dde9db86",
   "metadata": {},
   "outputs": [],
   "source": [
    "''' Q8. What is the concept of expected value in a probability distribution?\n",
    "\n",
    "     -> The expected value of a probability distribution is the long-term average or mean value of a random variable, weighted by its probabilities. \n",
    "        It represents the value you would expect to observe on average if an experiment were repeated many times.\n",
    "\n",
    "'''"
   ]
  },
  {
   "cell_type": "code",
   "execution_count": 2,
   "id": "8d880034-4ff7-4652-8057-e71dad291fba",
   "metadata": {},
   "outputs": [
    {
     "name": "stdout",
     "output_type": "stream",
     "text": [
      "Computed Mean: 50.01132857598891\n",
      "Computed Standard Deviation: 4.992075839351513\n"
     ]
    },
    {
     "data": {
      "image/png": "[encoded data removed]",
      "text/plain": [
       "<Figure size 640x480 with 1 Axes>"
      ]
     },
     "metadata": {},
     "output_type": "display_data"
    }
   ],
   "source": [
    "''' Q9. Write a Python program to generate 1000 random numbers from a normal distribution with mean = 50 and standard deviation = 5. \n",
    "        Compute its mean and standard deviation using NumPy, and draw a histogram to visualize the distribution. '''\n",
    "\n",
    "import numpy as np\n",
    "import matplotlib.pyplot as plt\n",
    "\n",
    "mean = 50\n",
    "std_dev = 5\n",
    "size = 1000\n",
    "\n",
    "data = np.random.normal(mean, std_dev, size)\n",
    "\n",
    "computed_mean = np.mean(data)\n",
    "computed_std = np.std(data)\n",
    "\n",
    "print(f\"Computed Mean: {computed_mean}\")\n",
    "print(f\"Computed Standard Deviation: {computed_std}\")\n",
    "\n",
    "plt.hist(data, bins=30, edgecolor='black', alpha=0.7)\n",
    "plt.title(\"Histogram of Normally Distributed Random Numbers\")\n",
    "plt.xlabel(\"Value\")\n",
    "plt.ylabel(\"Frequency\")\n",
    "plt.show()"
   ]
  },
  {
   "cell_type": "code",
   "execution_count": null,
   "id": "e9ec9f64-b4aa-4ece-975f-c927fa0301f5",
   "metadata": {},
   "outputs": [],
   "source": [
    "''' Q10. You are working as a data analyst for a retail company. The company has collected daily sales data for 2 years and \n",
    "         wants you to identify the overall sales trend. \n",
    "         daily_sales = [220, 245, 210, 265, 230, 250, 260, 275, 240, 255, 235, 260, 245, 250, 225, 270, 265, 255, 250, 260] \n",
    "       ● Explain how you would apply the Central Limit Theorem to estimate the average sales with a 95% confidence interval. \n",
    "       ● Write the Python code to compute the mean sales and its confidence interval.\n",
    "\n",
    "      -> Steps to estimate the average sales with a 95% confidence interval:\n",
    "         1. Treat the given daily_sales data as a sample of the overall sales.\n",
    "         2. Compute the sample mean and sample standard deviation (s).\n",
    "         3. Use the CLT to assume the sampling distribution of the mean is normal.\n",
    "         4. Compute the standard error (SE) of the mean\n",
    "         5. Compute the 95% confidence interval using the t-distribution (for small samples) or z-value"
   ]
  }
 ],
 "metadata": {
  "kernelspec": {
   "display_name": "Python 3 (ipykernel)",
   "language": "python",
   "name": "python3"
  },
  "language_info": {
   "codemirror_mode": {
    "name": "ipython",
    "version": 3
   },
   "file_extension": ".py",
   "mimetype": "text/x-python",
   "name": "python",
   "nbconvert_exporter": "python",
   "pygments_lexer": "ipython3",
   "version": "3.13.5"
  }
 },
 "nbformat": 4,
 "nbformat_minor": 5
}
